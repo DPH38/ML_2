{
 "cells": [
  {
   "cell_type": "code",
   "execution_count": 1,
   "metadata": {},
   "outputs": [],
   "source": [
    "import pandas as pd"
   ]
  },
  {
   "cell_type": "code",
   "execution_count": 2,
   "metadata": {},
   "outputs": [],
   "source": [
    "df = pd.read_excel('BASE.xlsx')"
   ]
  },
  {
   "cell_type": "code",
   "execution_count": 4,
   "metadata": {},
   "outputs": [
    {
     "name": "stdout",
     "output_type": "stream",
     "text": [
      "<class 'pandas.core.frame.DataFrame'>\n",
      "RangeIndex: 8357 entries, 0 to 8356\n",
      "Data columns (total 35 columns):\n",
      " #   Column                          Non-Null Count  Dtype         \n",
      "---  ------                          --------------  -----         \n",
      " 0   ano_campeonato                  8357 non-null   int64         \n",
      " 1   data                            8357 non-null   datetime64[ns]\n",
      " 2   rodada                          8357 non-null   int64         \n",
      " 3   estadio                         8346 non-null   object        \n",
      " 4   arbitro                         6647 non-null   object        \n",
      " 5   publico                         6646 non-null   float64       \n",
      " 6   publico_max                     4078 non-null   float64       \n",
      " 7   time_mandante                   8357 non-null   object        \n",
      " 8   time_visitante                  8357 non-null   object        \n",
      " 9   tecnico_mandante                6203 non-null   object        \n",
      " 10  tecnico_visitante               6203 non-null   object        \n",
      " 11  colocacao_mandante              6645 non-null   float64       \n",
      " 12  colocacao_visitante             6645 non-null   float64       \n",
      " 13  valor_equipe_titular_mandante   6259 non-null   float64       \n",
      " 14  valor_equipe_titular_visitante  6259 non-null   float64       \n",
      " 15  idade_media_titular_mandante    6257 non-null   float64       \n",
      " 16  idade_media_titular_visitante   6257 non-null   float64       \n",
      " 17  gols_mandante                   8346 non-null   float64       \n",
      " 18  gols_visitante                  8346 non-null   float64       \n",
      " 19  gols_1_tempo_mandante           6636 non-null   float64       \n",
      " 20  gols_1_tempo_visitante          6636 non-null   float64       \n",
      " 21  escanteios_mandante             1992 non-null   float64       \n",
      " 22  escanteios_visitante            1992 non-null   float64       \n",
      " 23  faltas_mandante                 1992 non-null   float64       \n",
      " 24  faltas_visitante                1992 non-null   float64       \n",
      " 25  chutes_bola_parada_mandante     1992 non-null   float64       \n",
      " 26  chutes_bola_parada_visitante    1992 non-null   float64       \n",
      " 27  defesas_mandante                1992 non-null   float64       \n",
      " 28  defesas_visitante               1992 non-null   float64       \n",
      " 29  impedimentos_mandante           1992 non-null   float64       \n",
      " 30  impedimentos_visitante          1992 non-null   float64       \n",
      " 31  chutes_mandante                 1992 non-null   float64       \n",
      " 32  chutes_visitante                1992 non-null   float64       \n",
      " 33  chutes_fora_mandante            1992 non-null   float64       \n",
      " 34  chutes_fora_visitante           1992 non-null   float64       \n",
      "dtypes: datetime64[ns](1), float64(26), int64(2), object(6)\n",
      "memory usage: 2.2+ MB\n"
     ]
    }
   ],
   "source": [
    "df.info()"
   ]
  }
 ],
 "metadata": {
  "kernelspec": {
   "display_name": ".venv",
   "language": "python",
   "name": "python3"
  },
  "language_info": {
   "codemirror_mode": {
    "name": "ipython",
    "version": 3
   },
   "file_extension": ".py",
   "mimetype": "text/x-python",
   "name": "python",
   "nbconvert_exporter": "python",
   "pygments_lexer": "ipython3",
   "version": "3.11.4"
  }
 },
 "nbformat": 4,
 "nbformat_minor": 2
}
