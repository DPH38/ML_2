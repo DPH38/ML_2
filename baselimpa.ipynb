{
  "cells": [
    {
      "cell_type": "code",
      "execution_count": 1,
      "metadata": {
        "id": "y0OIS_DClEQ8"
      },
      "outputs": [],
      "source": [
        "#Bibliotecas\n",
        "import pandas as pd\n",
        "import pyarrow.parquet as pq\n",
        "import seaborn as sns\n",
        "import matplotlib.pyplot as plt\n",
        "import numpy as np\n",
        "import scipy.stats as stats\n",
        "from scipy.stats import anderson\n",
        "import statsmodels.api as sm"
      ]
    },
    {
      "cell_type": "markdown",
      "metadata": {
        "id": "w0z5MaRe0prf"
      },
      "source": [
        "Foram importadas algumas bliotecas, da linguagem de programação python, com o objetivo de facilitar a analise e manipulamento de dados.\n",
        "\n",
        "o objetivo das importações de códigos externos foram:\n",
        "pandas: Manipulação de dados em estruturas como DataFrames, ideal para carregar, limpar e transformar dados.\n",
        "pyarrow.parquet: Leitura e escrita de arquivos no formato Parquet, eficiente para grandes volumes de dados.\n",
        "seaborn: Criação de gráficos estatísticos atraentes e informativos, com integração facilitada ao pandas.\n",
        "matplotlib.pyplot: Biblioteca básica para visualização de dados com gráficos personalizados.\n",
        "numpy: Operações matemáticas e manipulação eficiente de arrays.\n",
        "scipy.stats: Funções estatísticas e testes de hipóteses.\n",
        "statsmodels: Modelagem estatística, regressões e testes avançados.\n",
        "anderson: Teste estatístico de Anderson-Darling, útil para verificar a normalidade dos dados."
      ]
    },
    {
      "cell_type": "code",
      "execution_count": null,
      "metadata": {
        "colab": {
          "base_uri": "https://localhost:8080/",
          "height": 400
        },
        "id": "qEbdQCuOlc4L",
        "outputId": "46d9c1df-355b-44a3-c9c6-63861b60ba1c"
      },
      "outputs": [],
      "source": [
        "#Carregando a base\n",
        "df = pd.read_parquet('base_limpa.parquet')\n",
        "\n",
        "df.head(5)"
      ]
    },
    {
      "cell_type": "markdown",
      "metadata": {
        "id": "r01hpmS12RI-"
      },
      "source": [
        "Na analise inicial da base, foi entendido que não seria necessária nenhuma remoção de colunas nos dados encontrados na base, contudo após primeiros desenvolvimentos, constatou-se que a falta de informações em cerca de 15 anos dos 21 que se encontram na analise, implicaria em dados faltantes caso fossem usadas as médias dos campos e em poucos dados para analisar nos anos restantes. Foram removidos as colunas de escanteios mandante e visitante\n",
        "faltas mandante e visitante,\n",
        "chute bolas parada mandante e visitante,\n",
        "defesas mandante e visitante,\n",
        "impedimentos mandante e visitante,\n",
        "chutes mandante e visitante, por fim\n",
        "chutes fora mandante e visitante.\n"
      ]
    },
    {
      "cell_type": "code",
      "execution_count": null,
      "metadata": {},
      "outputs": [],
      "source": [
        "df.columns"
      ]
    },
    {
      "cell_type": "code",
      "execution_count": null,
      "metadata": {},
      "outputs": [],
      "source": [
        "df['time_visitante'].value_counts().sort_index()"
      ]
    },
    {
      "cell_type": "code",
      "execution_count": null,
      "metadata": {},
      "outputs": [],
      "source": [
        "df.columns"
      ]
    },
    {
      "cell_type": "code",
      "execution_count": null,
      "metadata": {},
      "outputs": [],
      "source": [
        "df['time_mandante'].value_counts().sort_index()"
      ]
    },
    {
      "cell_type": "code",
      "execution_count": 7,
      "metadata": {},
      "outputs": [],
      "source": [
        "def replace_values(df, mapping_dict):\n",
        "    \"\"\"\n",
        "    Substitui valores nas colunas 'time_visitante' e 'time_mandante' de um DataFrame\n",
        "    a partir de um dicionário de mapeamento.\n",
        "\n",
        "    Args:\n",
        "    df (pd.DataFrame): DataFrame contendo as colunas a serem modificadas.\n",
        "    mapping_dict (dict): Dicionário com os valores a serem substituídos como chaves e os novos valores como valores.\n",
        "\n",
        "    Returns:\n",
        "    pd.DataFrame: DataFrame com os valores substituídos.\n",
        "    \"\"\"\n",
        "    columns_to_replace = ['time_visitante', 'time_mandante']\n",
        "    for column in columns_to_replace:\n",
        "        df[column] = df[column].replace(mapping_dict)\n",
        "    return df"
      ]
    },
    {
      "cell_type": "code",
      "execution_count": 8,
      "metadata": {},
      "outputs": [],
      "source": [
        "mapping_dict = {\"Atlético-PR\": \"Athletico-PR\", \"FC\": \"\",\n",
        "                 \"EC\": \"\",  }\n",
        "\n",
        "\n",
        "df = replace_values(df, mapping_dict)"
      ]
    },
    {
      "cell_type": "code",
      "execution_count": null,
      "metadata": {
        "colab": {
          "base_uri": "https://localhost:8080/"
        },
        "id": "TE4RBv3-nTlU",
        "outputId": "962b5c36-58e6-4d3d-c37b-e75e03aad05f"
      },
      "outputs": [],
      "source": [
        "#informações sobre a base\n",
        "df.info()"
      ]
    },
    {
      "cell_type": "code",
      "execution_count": 11,
      "metadata": {},
      "outputs": [],
      "source": [
        "#função para retirar todos os valores Nan, Null e Infinitos do df\n",
        "def remove_nan_inf(df):\n",
        "    \"\"\"\n",
        "    Remove valores NaN, Null e infinitos de um DataFrame.\n",
        "\n",
        "    Args:\n",
        "    df (pd.DataFrame): DataFrame a ser limpo.\n",
        "\n",
        "    Returns:\n",
        "    pd.DataFrame: DataFrame sem valores NaN, Null e infinitos.\n",
        "    \"\"\"\n",
        "    return df.replace([np.inf, -np.inf], np.nan).dropna()\n",
        "\n",
        "df = remove_nan_inf(df)"
      ]
    },
    {
      "cell_type": "markdown",
      "metadata": {
        "id": "ryHkTHXAFHcS"
      },
      "source": [
        "Ficando após essa primeira tratativa, 1 campo de tipo data, 13 campos de tipo númerico (11 com números reais e 2 com números inteiros) e 6 com informações categoricas (informação em texto).\n",
        "\n",
        "Alguns campos mesmo estando com tipagem float, contiam dados que são identificados como inteiros, para adequar os dados, foi alterado o tipo dos campos para seguir o tipo inteiro.\n",
        "\n",
        "Foram separados os campos de tipo texto na variavel de colunas_categoricas e númericas em colunas_numericas."
      ]
    },
    {
      "cell_type": "code",
      "execution_count": null,
      "metadata": {
        "colab": {
          "base_uri": "https://localhost:8080/"
        },
        "id": "OQc93LO3jjAk",
        "outputId": "140ce3b9-21ee-42b1-b4dc-5e77726434fc"
      },
      "outputs": [],
      "source": [
        "# Alterar colunas de float para int\n",
        "cols = ['publico', 'gols_mandante', 'gols_visitante', 'gols_1_tempo_mandante', 'gols_1_tempo_visitante',\n",
        "        'colocacao_mandante', 'colocacao_visitante', 'ano_campeonato']\n",
        "\n",
        "df[cols] = df[cols].astype(pd.Int64Dtype())\n",
        "\n",
        "df.info()"
      ]
    },
    {
      "cell_type": "code",
      "execution_count": null,
      "metadata": {
        "colab": {
          "base_uri": "https://localhost:8080/"
        },
        "id": "HGO4BKqenZFU",
        "outputId": "a01b0a20-bdbf-46a9-ab40-d27fec7a6052"
      },
      "outputs": [],
      "source": [
        "# Separar em Colunas numéricas\n",
        "colunas_numericas = df.select_dtypes(include=['int', 'float']).columns\n",
        "colunas_numericas"
      ]
    },
    {
      "cell_type": "code",
      "execution_count": null,
      "metadata": {
        "colab": {
          "base_uri": "https://localhost:8080/"
        },
        "id": "yYrQlWkZndES",
        "outputId": "f8e34821-010b-4a85-fdb2-c1e7d8b08d16"
      },
      "outputs": [],
      "source": [
        "#Separar em Colunas categóricas\n",
        "colunas_categoricas = df.select_dtypes(include=['object']).columns\n",
        "colunas_categoricas"
      ]
    },
    {
      "cell_type": "code",
      "execution_count": null,
      "metadata": {
        "colab": {
          "base_uri": "https://localhost:8080/",
          "height": 489
        },
        "id": "0_3d3X9SnhJ-",
        "outputId": "490937a9-a4dd-4b80-9adf-938fc10244ad"
      },
      "outputs": [],
      "source": [
        "#Estatísticas descritivas\n",
        "df.describe().T.round()\n"
      ]
    },
    {
      "cell_type": "markdown",
      "metadata": {
        "id": "F6m0OoTi71c9"
      },
      "source": [
        "Ficando então com os seguintes campos, possuindo na tabela seus quartis, quantidade máxima, média, máximo, minimo e desvio padrão:\n",
        "\n",
        "\n",
        "Ano do Campeonato\n",
        "Os dados relacionados ao campo \"ano_campeonato\" mostram que a média dos campeonatos considerados está em 2013, com o menor ano sendo 2003 e o maior 2024. O desvio padrão de 6.29 indica uma variação moderada nos anos analisados, o que sugere que as competições cobrem um longo período de tempo. O primeiro quartil (25%) está em 2007 e o terceiro quartil (75%) em 2018, reforçando que a maioria dos dados está concentrada entre esses anos.\n",
        "\n",
        "Rodada\n",
        "O campo \"rodada\" possui uma média de aproximadamente 19, indicando que, em média, os jogos acontecem ao redor da metade do campeonato (dado que muitos campeonatos têm cerca de 38 rodadas). O valor mínimo é 1, enquanto o máximo é 38, cobrindo uma temporada completa. O desvio padrão de 10.95 mostra uma variação considerável nas rodadas dos jogos registrados.\n",
        "\n",
        "Público\n",
        "No que se refere ao \"público\", observa-se que a média de espectadores por jogo é de 15.949, com valores variando de 0 (jogos sem público, possivelmente devido a restrições) até um máximo de 82.044 pessoas. O desvio padrão de 13.943 sugere que há uma grande variação na quantidade de público, possivelmente em função do tamanho dos estádios ou da importância das partidas. O valor do 1º quartil (5787) indica que, em 25% das partidas, o público foi inferior a esse número, enquanto o 3º quartil (22.584) mostra que 75% das partidas tiveram menos de 22.584 espectadores.\n",
        "\n",
        "Colocação das Equipes\n",
        "A colocação das equipes (mandante e visitante) apresenta uma média em torno de 10 para ambos os times, sugerindo que, em geral, as equipes participantes estão distribuídas de forma relativamente homogênea na tabela do campeonato. O desvio padrão de cerca de 5.7 indica uma variação considerável na posição das equipes, com algumas partidas envolvendo times na liderança e outras com times de posições mais baixas.\n",
        "\n",
        "Valor das Equipes\n",
        "Em relação ao \"valor_equipe_titular\", tanto de mandantes quanto de visitantes, a média está em torno de 16 milhões. O desvio padrão elevado (aproximadamente 14 milhões) sugere que há uma grande disparidade entre os valores das equipes, refletindo a diferença de investimento e orçamento entre os clubes. O valor máximo de 100 milhões de reais para o time mandante e 96 milhões para o visitante reforça essa discrepância, enquanto os valores do 1º quartil indicam que 25% dos times possuem elencos avaliados em menos de 6 milhões.\n",
        "\n",
        "Idade Média dos Jogadores Titulares\n",
        "Quanto à idade média dos jogadores titulares, os times mandantes têm uma média de 27,29 anos e os visitantes 27,19 anos. O desvio padrão é baixo, com cerca de 1,6 para ambos, indicando que a maioria dos jogadores tem idades muito próximas dessa média. O valor máximo é de 33,6 anos para mandantes e 33,1 anos para visitantes, enquanto o mínimo fica em torno de 20 anos para ambos os lados, o que demonstra a presença tanto de jovens promessas quanto de jogadores mais experientes.\n",
        "\n",
        "Gols\n",
        "Os dados de \"gols_mandante\" e \"gols_visitante\" mostram uma média de 1,52 gols por partida para os mandantes e 1,02 para os visitantes, indicando que os times da casa tendem a marcar mais gols. A variação, refletida no desvio padrão (1,21 para mandantes e 1,02 para visitantes), também mostra que algumas partidas podem ter mais gols que a média. No entanto, o primeiro quartil para ambos os casos é 1 e 0 gols, sugerindo que uma quantidade significativa de jogos termina com poucos ou nenhum gol marcado.\n",
        "\n",
        "Essas informações permitem uma análise detalhada sobre os jogos, revelando padrões e variações nas rodadas, no público, no desempenho das equipes e no valor dos elencos."
      ]
    },
    {
      "cell_type": "markdown",
      "metadata": {
        "id": "Adck2MERevIo"
      },
      "source": [
        "##Graficos"
      ]
    },
    {
      "cell_type": "code",
      "execution_count": null,
      "metadata": {
        "id": "f4fwBUJwo80j"
      },
      "outputs": [],
      "source": []
    },
    {
      "cell_type": "code",
      "execution_count": null,
      "metadata": {
        "colab": {
          "base_uri": "https://localhost:8080/",
          "height": 477
        },
        "id": "izqAK9IwckrM",
        "outputId": "e0f69349-92bf-495d-a69d-59fcecd73672"
      },
      "outputs": [],
      "source": [
        "# Correlações\n",
        "corr = df.corr(numeric_only=True)\n",
        "corr.style.background_gradient()"
      ]
    },
    {
      "cell_type": "markdown",
      "metadata": {
        "id": "HGnu1Mpq-laZ"
      },
      "source": [
        "A tabela de correlação apresentada oferece insights sobre as relações entre variáveis relacionadas a campeonatos de futebol. A correlação vai de -1 (fortemente negativa) a +1 (fortemente positiva), com valores mais próximos de zero indicando pouca ou nenhuma relação entre as variáveis.\n",
        "\n",
        "1. Ano do Campeonato\n",
        "Correlação positiva moderada com idade média dos titulares (mandante: 0.35; visitante: 0.32): Isso sugere que, com o passar dos anos, a idade média dos jogadores aumentou. Pode ser resultado de mudanças no perfil dos atletas, com jogadores mais experientes se mantendo em atividade por mais tempo.\n",
        "Correlação negativa com gols (mandante: -0.11; visitante: -0.05): Indica que, com o tempo, os times tendem a marcar menos gols, especialmente os mandantes. Isso pode refletir mudanças táticas, como defesas mais organizadas ou competições mais equilibradas.\n",
        "2. Rodada\n",
        "Correlação baixa com todas as variáveis: Isso sugere que a rodada do campeonato não influencia significativamente outras variáveis, como público, gols ou desempenho das equipes. Isso pode indicar que o comportamento das partidas se mantém relativamente constante ao longo da competição.\n",
        "3. Público\n",
        "Correlação positiva com o valor da equipe titular do mandante (0.19): Equipes com maior valor de mercado tendem a atrair mais público. Isso faz sentido, já que times mais valiosos frequentemente têm jogadores mais renomados e campanhas mais vitoriosas.\n",
        "Correlação negativa com colocação do mandante (-0.29): Times que estão em posições piores na tabela tendem a ter públicos menores. Quando uma equipe vai mal no campeonato, a torcida tende a comparecer menos.\n",
        "4. Colocação do Mandante e Visitante\n",
        "Correlação negativa com valor da equipe titular do mandante (-0.39) e do visitante (-0.40): Times que estão em melhores posições na tabela tendem a ter elencos mais valiosos. Isso reflete a influência de investimentos financeiros no desempenho.\n",
        "Correlação positiva com gols do visitante (0.14) e negativa com gols do mandante (-0.15): Times mandantes que estão melhor colocados tendem a sofrer menos gols, enquanto os visitantes, quando estão em boas posições, marcam mais gols. Isso reflete o equilíbrio e a competitividade nas partidas.\n",
        "5. Valor da Equipe Titular (Mandante e Visitante)\n",
        "Correlação positiva com público (mandante: 0.19): Como mencionado, equipes mais valiosas atraem mais torcedores.\n",
        "Correlação positiva com gols do mandante (0.12): Equipes mandantes mais valiosas tendem a marcar mais gols, reforçando o impacto do valor do elenco no desempenho em campo.\n",
        "6. Idade Média dos Titulares (Mandante e Visitante)\n",
        "Correlação positiva com ano do campeonato (mandante: 0.35; visitante: 0.32): Como já discutido, isso indica uma tendência de envelhecimento dos jogadores ao longo dos anos.\n",
        "Correlação baixa com outras variáveis: A idade média dos jogadores não parece ter uma relação forte com o número de gols ou a colocação das equipes, sugerindo que a experiência (medida pela idade) não tem impacto direto no desempenho em campo, pelo menos nessa análise.\n",
        "7. Gols (Mandante e Visitante)\n",
        "Correlação muito alta entre gols do 1º tempo e gols totais (mandante: 0.66; visitante: 0.64): Não é surpreendente, já que os gols marcados no 1º tempo contribuem diretamente para o total de gols na partida. Isso mostra que muitas das partidas têm sua tendência de placar definida desde o primeiro tempo.\n",
        "Correlação negativa entre valor da equipe visitante e gols do mandante (-0.13): Times visitantes mais valiosos tendem a permitir menos gols, sugerindo que elencos mais fortes podem ser mais defensivamente eficientes.\n",
        "Conclusões Gerais\n",
        "A tabela revela que o valor da equipe titular está fortemente relacionado com o desempenho (gols e posição na tabela), evidenciando o papel do investimento financeiro no sucesso de uma equipe.\n",
        "A idade média dos jogadores aumentou ao longo dos anos, mas esse fator tem pouco impacto sobre o número de gols ou a posição das equipes.\n",
        "O público está correlacionado positivamente com o valor das equipes e negativamente com a posição na tabela, o que reforça que torcedores apoiam mais os times quando estão bem e quando têm elencos de maior valor."
      ]
    },
    {
      "cell_type": "code",
      "execution_count": null,
      "metadata": {
        "colab": {
          "base_uri": "https://localhost:8080/",
          "height": 400
        },
        "id": "QYxJXfCmTSbC",
        "outputId": "a05499f1-1596-4049-c28f-1e1a315f6641"
      },
      "outputs": [],
      "source": [
        " # Filtrar os dados da coluna, removendo valores NaN\n",
        "data = df[colunas_numericas].dropna()\n",
        "df.head()"
      ]
    },
    {
      "cell_type": "code",
      "execution_count": null,
      "metadata": {
        "colab": {
          "base_uri": "https://localhost:8080/",
          "height": 711
        },
        "id": "4Goa8bpfa5g7",
        "outputId": "5381e002-ad52-4fd3-ff54-af9755135ce7"
      },
      "outputs": [],
      "source": [
        "# Remover NaN\n",
        "df.dropna(axis = 0, inplace = True)\n",
        "df.isna().sum()"
      ]
    },
    {
      "cell_type": "markdown",
      "metadata": {
        "id": "PiAguw5UkBMR"
      },
      "source": [
        "###Histogramas\n"
      ]
    },
    {
      "cell_type": "code",
      "execution_count": null,
      "metadata": {
        "colab": {
          "base_uri": "https://localhost:8080/",
          "height": 499
        },
        "id": "ZVboFJuCabIJ",
        "outputId": "198489e5-7f58-4d23-c2fe-d45a1e46bbc1"
      },
      "outputs": [],
      "source": [
        "plt.hist(df['gols_mandante'])"
      ]
    },
    {
      "cell_type": "code",
      "execution_count": null,
      "metadata": {
        "colab": {
          "base_uri": "https://localhost:8080/",
          "height": 499
        },
        "id": "Zon6wBaXbOvF",
        "outputId": "8d7853f9-d70c-4c4b-85be-dfde953683df"
      },
      "outputs": [],
      "source": [
        "plt.hist(df['gols_visitante'])"
      ]
    },
    {
      "cell_type": "code",
      "execution_count": null,
      "metadata": {
        "colab": {
          "base_uri": "https://localhost:8080/",
          "height": 499
        },
        "id": "LZ06l0bfbTTe",
        "outputId": "e0fd8d3e-7838-418b-83d5-c1c5059790bd"
      },
      "outputs": [],
      "source": [
        "plt.hist(df['gols_1_tempo_mandante'])"
      ]
    },
    {
      "cell_type": "code",
      "execution_count": null,
      "metadata": {
        "colab": {
          "base_uri": "https://localhost:8080/",
          "height": 504
        },
        "id": "k0jxwHq2bXG2",
        "outputId": "3fa0f08e-4264-4dcb-eaac-141ca737c1b1"
      },
      "outputs": [],
      "source": [
        "plt.hist(df['gols_1_tempo_visitante'])"
      ]
    },
    {
      "cell_type": "code",
      "execution_count": null,
      "metadata": {
        "colab": {
          "base_uri": "https://localhost:8080/",
          "height": 482
        },
        "id": "HncSVQ8sbc1N",
        "outputId": "a9dda2d1-0f93-46cf-dcd5-0d1542362cbc"
      },
      "outputs": [],
      "source": [
        "plt.hist(df['colocacao_mandante'])"
      ]
    },
    {
      "cell_type": "code",
      "execution_count": null,
      "metadata": {
        "colab": {
          "base_uri": "https://localhost:8080/",
          "height": 482
        },
        "id": "C_vr_DdhbhiL",
        "outputId": "cdca95cf-b2a3-424b-b796-e99e20d03977"
      },
      "outputs": [],
      "source": [
        "plt.hist(df['colocacao_visitante'])"
      ]
    },
    {
      "cell_type": "code",
      "execution_count": null,
      "metadata": {
        "colab": {
          "base_uri": "https://localhost:8080/",
          "height": 517
        },
        "id": "5GHYqmtpbofn",
        "outputId": "011875d2-679f-4ad2-a706-d864790084b2"
      },
      "outputs": [],
      "source": [
        "plt.hist(df['publico'])"
      ]
    },
    {
      "cell_type": "code",
      "execution_count": null,
      "metadata": {
        "colab": {
          "base_uri": "https://localhost:8080/",
          "height": 552
        },
        "id": "vSXOGmwRb61G",
        "outputId": "453edf2f-9057-4273-8a1d-b2b530fb93e3"
      },
      "outputs": [],
      "source": [
        "plt.hist(df['valor_equipe_titular_mandante'])"
      ]
    },
    {
      "cell_type": "code",
      "execution_count": null,
      "metadata": {
        "colab": {
          "base_uri": "https://localhost:8080/",
          "height": 552
        },
        "id": "NfYKZ36bcFXM",
        "outputId": "77b45b28-88a5-4e35-eafe-6736ac29a28d"
      },
      "outputs": [],
      "source": [
        "plt.hist(df['valor_equipe_titular_visitante'])"
      ]
    },
    {
      "cell_type": "markdown",
      "metadata": {
        "id": "Fmds0cykeERG"
      },
      "source": [
        "##Metodo anderson"
      ]
    },
    {
      "cell_type": "code",
      "execution_count": null,
      "metadata": {
        "colab": {
          "base_uri": "https://localhost:8080/"
        },
        "id": "wwVUhZhcdHjm",
        "outputId": "3d8b3bdf-689d-45f2-d19e-0d25eca274d1"
      },
      "outputs": [],
      "source": [
        "result_valor_equipe_mandante = anderson(df['valor_equipe_titular_mandante'])\n",
        "result_valor_equipe_mandante"
      ]
    },
    {
      "cell_type": "code",
      "execution_count": null,
      "metadata": {
        "colab": {
          "base_uri": "https://localhost:8080/"
        },
        "id": "fzAAi80RdwRk",
        "outputId": "d36662d4-c05f-4b0b-83db-aa1d11e4e8e3"
      },
      "outputs": [],
      "source": [
        "result_valor_equipe_mandante.statistic"
      ]
    },
    {
      "cell_type": "code",
      "execution_count": null,
      "metadata": {
        "colab": {
          "base_uri": "https://localhost:8080/"
        },
        "id": "qMjp_WF9d5X5",
        "outputId": "37420954-c44c-4cce-e2df-6612357e2c1a"
      },
      "outputs": [],
      "source": [
        "result_valor_equipe_mandante.critical_values[2]"
      ]
    },
    {
      "cell_type": "code",
      "execution_count": null,
      "metadata": {
        "colab": {
          "base_uri": "https://localhost:8080/",
          "height": 913
        },
        "id": "BhaIB-IuePEa",
        "outputId": "7b75c106-2ebe-4263-c2e7-89d01d5b363a"
      },
      "outputs": [],
      "source": [
        "qqplot(df['valor_equipe_titular_mandante'], line= 's')"
      ]
    },
    {
      "cell_type": "code",
      "execution_count": null,
      "metadata": {
        "colab": {
          "base_uri": "https://localhost:8080/"
        },
        "id": "bjtI57c0iZ_o",
        "outputId": "9555ad83-7c1b-4158-9c7f-8a1f4afeea04"
      },
      "outputs": [],
      "source": [
        "result_valor_equipe_visitante = anderson(df['valor_equipe_titular_visitante'])\n",
        "result_valor_equipe_visitante"
      ]
    },
    {
      "cell_type": "code",
      "execution_count": null,
      "metadata": {
        "colab": {
          "base_uri": "https://localhost:8080/"
        },
        "id": "A1A3CTe2kbrB",
        "outputId": "c3e25f67-3236-452c-a9f4-f7890f20ac90"
      },
      "outputs": [],
      "source": [
        "result_valor_equipe_visitante.statistic"
      ]
    },
    {
      "cell_type": "code",
      "execution_count": null,
      "metadata": {
        "colab": {
          "base_uri": "https://localhost:8080/"
        },
        "id": "Jt2tV1y5kp30",
        "outputId": "4205ed32-8887-41b8-ed39-04ada1464e97"
      },
      "outputs": [],
      "source": [
        "result_valor_equipe_mandante.critical_values[2]"
      ]
    },
    {
      "cell_type": "code",
      "execution_count": null,
      "metadata": {
        "colab": {
          "base_uri": "https://localhost:8080/",
          "height": 913
        },
        "id": "Ngew6hi-ktK6",
        "outputId": "901a14f2-483d-44a6-f1aa-dd7a91eb794a"
      },
      "outputs": [],
      "source": [
        "qqplot(df['valor_equipe_titular_visitante'], line= 's')"
      ]
    },
    {
      "cell_type": "code",
      "execution_count": null,
      "metadata": {
        "colab": {
          "base_uri": "https://localhost:8080/"
        },
        "id": "ItQbPY-4lGkx",
        "outputId": "acece270-6d85-40b6-b23e-9f21d7713b23"
      },
      "outputs": [],
      "source": [
        "result_idade_media_titular_mandante = anderson(df['idade_media_titular_mandante'])\n",
        "result_idade_media_titular_mandante"
      ]
    },
    {
      "cell_type": "code",
      "execution_count": null,
      "metadata": {
        "colab": {
          "base_uri": "https://localhost:8080/"
        },
        "id": "Yj11QaoVmFsY",
        "outputId": "fa1e4819-cd1d-4bb6-8652-a7e75f12bcdc"
      },
      "outputs": [],
      "source": [
        "result_idade_media_titular_mandante.statistic"
      ]
    },
    {
      "cell_type": "code",
      "execution_count": null,
      "metadata": {
        "colab": {
          "base_uri": "https://localhost:8080/"
        },
        "id": "34dxos7amOAB",
        "outputId": "eaa0c101-3cc9-4f9a-870e-fcff22dbd35c"
      },
      "outputs": [],
      "source": [
        "result_idade_media_titular_mandante.critical_values[2]"
      ]
    },
    {
      "cell_type": "code",
      "execution_count": null,
      "metadata": {
        "colab": {
          "base_uri": "https://localhost:8080/",
          "height": 881
        },
        "id": "mR_3vYwmmWP6",
        "outputId": "43bff596-8a8d-4eef-cda7-80585ec232ed"
      },
      "outputs": [],
      "source": [
        "qqplot(df['idade_media_titular_mandante'], line= 's')"
      ]
    },
    {
      "cell_type": "code",
      "execution_count": null,
      "metadata": {
        "colab": {
          "base_uri": "https://localhost:8080/"
        },
        "id": "BSPc2DwIl-qS",
        "outputId": "67efd207-9940-4979-b96f-cee9c1ed8c7e"
      },
      "outputs": [],
      "source": [
        "result_idade_media_titular_visitante = anderson(df['idade_media_titular_visitante'])\n",
        "result_idade_media_titular_visitante"
      ]
    },
    {
      "cell_type": "code",
      "execution_count": null,
      "metadata": {
        "colab": {
          "base_uri": "https://localhost:8080/"
        },
        "id": "x_BLoAvgmHoc",
        "outputId": "76d075bc-5cda-4623-df4f-70a6da3d826d"
      },
      "outputs": [],
      "source": [
        "result_idade_media_titular_visitante.statistic"
      ]
    },
    {
      "cell_type": "code",
      "execution_count": null,
      "metadata": {
        "colab": {
          "base_uri": "https://localhost:8080/"
        },
        "id": "gEDyvo8GmQPS",
        "outputId": "6274a439-f308-4910-def1-5b5a665ba94d"
      },
      "outputs": [],
      "source": [
        "result_idade_media_titular_visitante.critical_values[2]"
      ]
    },
    {
      "cell_type": "code",
      "execution_count": null,
      "metadata": {
        "colab": {
          "base_uri": "https://localhost:8080/",
          "height": 881
        },
        "id": "TCSjBfwvmZAC",
        "outputId": "6e43407a-94e5-4f1a-9a66-c0fa43f896ac"
      },
      "outputs": [],
      "source": [
        "qqplot(df['idade_media_titular_visitante'], line= 's')"
      ]
    },
    {
      "cell_type": "markdown",
      "metadata": {
        "id": "uNPBgvApnE9p"
      },
      "source": [
        "###Fazer agrupamentos naturais"
      ]
    },
    {
      "cell_type": "code",
      "execution_count": null,
      "metadata": {
        "id": "CQS-Pyvkosxi"
      },
      "outputs": [],
      "source": [
        "def definir_regiao(time):\n",
        "    # Dicionário para mapear os times às suas regiões\n",
        "    regiao_times = {\n",
        "        'Grêmio': 'Sul',\n",
        "        'Internacional': 'Sul',\n",
        "        'Palmeiras': 'Sudeste',\n",
        "        'Santos': 'Sudeste',\n",
        "        'São Paulo': 'Sudeste',\n",
        "        'Corinthians': 'Sudeste',\n",
        "        'Flamengo': 'Sudeste',\n",
        "        'Fluminense': 'Sudeste',\n",
        "        'Vasco da Gama': 'Sudeste',\n",
        "        'Atlético-MG': 'Sudeste',\n",
        "        'Botafogo': 'Sudeste',\n",
        "        'Atlético-PR': 'Sul',\n",
        "        'Bahia': 'Nordeste',\n",
        "        'Sport Recife': 'Nordeste',\n",
        "        'Vitória': 'Nordeste',\n",
        "        'Coritiba': 'Sul',\n",
        "        'Coritiba FC': 'Sul',\n",
        "        'Goiás': 'Centro-Oeste',\n",
        "        'Figueirense FC': 'Sul',\n",
        "        'Cruzeiro': 'Sudeste',\n",
        "        'Chapecoense': 'Sul',\n",
        "        'Avaí': 'Sul',\n",
        "        'Ponte Preta': 'Sudeste',\n",
        "        'CSA': 'Nordeste',\n",
        "        'Ponte Preta': 'Norte',\n",
        "        'América-MG': 'Sudeste',\n",
        "        'América-RN': 'Nordeste',\n",
        "        'RB Bragantino': 'Sudeste',\n",
        "        'Cuiabá-MT': 'Centro-Oeste',\n",
        "        'Juventude': 'Sul',\n",
        "        'Paraná': 'Sul',\n",
        "        'Ceará': 'Nordeste',\n",
        "        'Atlético-GO': 'Centro-Oeste',\n",
        "        'Atlético-PR': 'Sul',\n",
        "        'Fortaleza': 'Nordeste',\n",
        "        'Criciúma': 'Sul',\n",
        "        'Brasiliense': 'Centro-Oeste',\n",
        "        'São Caetano': 'Sudeste',\n",
        "        'Santo André': 'Sudeste',\n",
        "        'Guarani': 'Sudeste',\n",
        "        'Náutico': 'Nordeste',\n",
        "        'Santa Cruz': 'Nordeste',\n",
        "        'Portuguesa': 'Sudeste',\n",
        "        'Ipatinga': 'Sudeste',\n",
        "        'Goias EC':'Centro-Oeste'\n",
        "        'EC Vitoria': 'Nordeste',\n",
        "        'EC Bahia': 'Nordeste',\n",
        "\n",
        "\n",
        "\n",
        "\n",
        "\n",
        "    }"
      ]
    },
    {
      "cell_type": "code",
      "execution_count": null,
      "metadata": {
        "id": "mwVzUwH7nEli"
      },
      "outputs": [],
      "source": [
        "times_sul=[]"
      ]
    },
    {
      "cell_type": "code",
      "execution_count": null,
      "metadata": {
        "id": "mpC6RoSpnShM"
      },
      "outputs": [],
      "source": [
        "times_norternorte=[]"
      ]
    },
    {
      "cell_type": "code",
      "execution_count": null,
      "metadata": {
        "id": "6V66WrnJnULJ"
      },
      "outputs": [],
      "source": [
        "times_sudeste=[]"
      ]
    },
    {
      "cell_type": "code",
      "execution_count": null,
      "metadata": {
        "id": "vACYArPDnbHL"
      },
      "outputs": [],
      "source": [
        "times_centrooeste=[]"
      ]
    },
    {
      "cell_type": "code",
      "execution_count": null,
      "metadata": {
        "id": "rbSFPLh2nc4d"
      },
      "outputs": [],
      "source": [
        "times_noroeste=[]"
      ]
    },
    {
      "cell_type": "code",
      "execution_count": null,
      "metadata": {
        "id": "YHk4-QRJnjxo"
      },
      "outputs": [],
      "source": []
    },
    {
      "cell_type": "code",
      "execution_count": null,
      "metadata": {
        "id": "L13HXaVLAntD"
      },
      "outputs": [],
      "source": [
        "sns.heatmap(df.corr(numeric_only=True), annot=True)"
      ]
    }
  ],
  "metadata": {
    "colab": {
      "provenance": []
    },
    "kernelspec": {
      "display_name": "Python 3",
      "name": "python3"
    },
    "language_info": {
      "codemirror_mode": {
        "name": "ipython",
        "version": 3
      },
      "file_extension": ".py",
      "mimetype": "text/x-python",
      "name": "python",
      "nbconvert_exporter": "python",
      "pygments_lexer": "ipython3",
      "version": "3.11.4"
    }
  },
  "nbformat": 4,
  "nbformat_minor": 0
}
